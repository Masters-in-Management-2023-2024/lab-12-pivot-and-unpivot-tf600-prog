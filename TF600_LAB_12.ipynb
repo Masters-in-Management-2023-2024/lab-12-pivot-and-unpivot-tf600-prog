{
  "nbformat": 4,
  "nbformat_minor": 0,
  "metadata": {
    "colab": {
      "provenance": []
    },
    "kernelspec": {
      "name": "python3",
      "display_name": "Python 3"
    },
    "language_info": {
      "name": "python"
    }
  },
  "cells": [
    {
      "cell_type": "code",
      "execution_count": 2,
      "metadata": {
        "colab": {
          "base_uri": "https://localhost:8080/",
          "height": 479
        },
        "id": "sFVkavI9zikT",
        "outputId": "3673b581-d5f1-40b6-fa17-f148b82154f1"
      },
      "outputs": [
        {
          "output_type": "stream",
          "name": "stderr",
          "text": [
            "/tmp/ipython-input-1079013489.py:7: DeprecationWarning: The argument `columns` for `DataFrame.pivot` is deprecated. It has been renamed to `on`.\n",
            "  economics_wide = economics_long.pivot(index='date', columns='variable', values='value')\n"
          ]
        },
        {
          "output_type": "execute_result",
          "data": {
            "text/plain": [
              "shape: (574, 6)\n",
              "┌────────────┬─────────┬────────────┬─────────┬─────────┬──────────┐\n",
              "│ date       ┆ pce     ┆ pop        ┆ psavert ┆ uempmed ┆ unemploy │\n",
              "│ ---        ┆ ---     ┆ ---        ┆ ---     ┆ ---     ┆ ---      │\n",
              "│ str        ┆ f64     ┆ f64        ┆ f64     ┆ f64     ┆ f64      │\n",
              "╞════════════╪═════════╪════════════╪═════════╪═════════╪══════════╡\n",
              "│ 1967-07-01 ┆ 506.7   ┆ 198712.0   ┆ 12.6    ┆ 4.5     ┆ 2944.0   │\n",
              "│ 1967-08-01 ┆ 509.8   ┆ 198911.0   ┆ 12.6    ┆ 4.7     ┆ 2945.0   │\n",
              "│ 1967-09-01 ┆ 515.6   ┆ 199113.0   ┆ 11.9    ┆ 4.6     ┆ 2958.0   │\n",
              "│ 1967-10-01 ┆ 512.2   ┆ 199311.0   ┆ 12.9    ┆ 4.9     ┆ 3143.0   │\n",
              "│ 1967-11-01 ┆ 517.4   ┆ 199498.0   ┆ 12.8    ┆ 4.7     ┆ 3066.0   │\n",
              "│ …          ┆ …       ┆ …          ┆ …       ┆ …       ┆ …        │\n",
              "│ 2014-12-01 ┆ 12062.0 ┆ 319746.157 ┆ 7.6     ┆ 12.9    ┆ 8717.0   │\n",
              "│ 2015-01-01 ┆ 12046.0 ┆ 319928.646 ┆ 7.7     ┆ 13.2    ┆ 8903.0   │\n",
              "│ 2015-02-01 ┆ 12082.4 ┆ 320074.511 ┆ 7.9     ┆ 12.9    ┆ 8610.0   │\n",
              "│ 2015-03-01 ┆ 12158.3 ┆ 320230.786 ┆ 7.4     ┆ 12.0    ┆ 8504.0   │\n",
              "│ 2015-04-01 ┆ 12193.8 ┆ 320402.295 ┆ 7.6     ┆ 11.5    ┆ 8526.0   │\n",
              "└────────────┴─────────┴────────────┴─────────┴─────────┴──────────┘"
            ],
            "text/html": [
              "<div><style>\n",
              ".dataframe > thead > tr,\n",
              ".dataframe > tbody > tr {\n",
              "  text-align: right;\n",
              "  white-space: pre-wrap;\n",
              "}\n",
              "</style>\n",
              "<small>shape: (574, 6)</small><table border=\"1\" class=\"dataframe\"><thead><tr><th>date</th><th>pce</th><th>pop</th><th>psavert</th><th>uempmed</th><th>unemploy</th></tr><tr><td>str</td><td>f64</td><td>f64</td><td>f64</td><td>f64</td><td>f64</td></tr></thead><tbody><tr><td>&quot;1967-07-01&quot;</td><td>506.7</td><td>198712.0</td><td>12.6</td><td>4.5</td><td>2944.0</td></tr><tr><td>&quot;1967-08-01&quot;</td><td>509.8</td><td>198911.0</td><td>12.6</td><td>4.7</td><td>2945.0</td></tr><tr><td>&quot;1967-09-01&quot;</td><td>515.6</td><td>199113.0</td><td>11.9</td><td>4.6</td><td>2958.0</td></tr><tr><td>&quot;1967-10-01&quot;</td><td>512.2</td><td>199311.0</td><td>12.9</td><td>4.9</td><td>3143.0</td></tr><tr><td>&quot;1967-11-01&quot;</td><td>517.4</td><td>199498.0</td><td>12.8</td><td>4.7</td><td>3066.0</td></tr><tr><td>&hellip;</td><td>&hellip;</td><td>&hellip;</td><td>&hellip;</td><td>&hellip;</td><td>&hellip;</td></tr><tr><td>&quot;2014-12-01&quot;</td><td>12062.0</td><td>319746.157</td><td>7.6</td><td>12.9</td><td>8717.0</td></tr><tr><td>&quot;2015-01-01&quot;</td><td>12046.0</td><td>319928.646</td><td>7.7</td><td>13.2</td><td>8903.0</td></tr><tr><td>&quot;2015-02-01&quot;</td><td>12082.4</td><td>320074.511</td><td>7.9</td><td>12.9</td><td>8610.0</td></tr><tr><td>&quot;2015-03-01&quot;</td><td>12158.3</td><td>320230.786</td><td>7.4</td><td>12.0</td><td>8504.0</td></tr><tr><td>&quot;2015-04-01&quot;</td><td>12193.8</td><td>320402.295</td><td>7.6</td><td>11.5</td><td>8526.0</td></tr></tbody></table></div>"
            ]
          },
          "metadata": {},
          "execution_count": 2
        }
      ],
      "source": [
        "#Q1A\n",
        "import polars as pl\n",
        "# Load economics_long data\n",
        "economics_long = pl.read_csv(\"https://raw.githubusercontent.com/philhetzel/opan5510-class12/refs/heads/main/data/economics_long.csv\")\n",
        "# YOUR CODE HERE: Pivot the data so that each unique value in 'variable' becomes its own column\n",
        "# Hint: Use the pivot() function\n",
        "# The index should be 'date', columns should come from 'variable', and values from 'value'\n",
        "economics_wide = economics_long.pivot(index='date', columns='variable', values='value')\n",
        "# Display the pivoted dataframe\n",
        "economics_wide"
      ]
    },
    {
      "cell_type": "code",
      "source": [
        "#Q1B\n",
        "# YOUR CODE HERE: Filter for dates >= '2010-01-01' and calculate median unemployment\n",
        "# Hint: You'll need to filter the dataframe and then calculate the median of the 'unemploy' column\n",
        "median_unemploy = economics_wide.filter(pl.col(\"date\") >= \"2010-01-01\") [\"unemploy\"]. median ()\n",
        "print (f\"The median unemployment for 2010-01-01 and beyond is: {median_unemploy}\")"
      ],
      "metadata": {
        "colab": {
          "base_uri": "https://localhost:8080/"
        },
        "id": "QAn2Cwjvz9ha",
        "outputId": "bea33da6-8e2a-459e-9853-0d314eb3747f"
      },
      "execution_count": 4,
      "outputs": [
        {
          "output_type": "stream",
          "name": "stdout",
          "text": [
            "The median unemployment for 2010-01-01 and beyond is: 12471.0\n"
          ]
        }
      ]
    },
    {
      "cell_type": "code",
      "source": [
        "#Q2A\n",
        "import polars as pl\n",
        "# Load dataset\n",
        "air_passengers = pl.read_csv(\n",
        "\"https://raw.githubusercontent.com/philhetzel/opan5510-class12/refs/heads/main/data/AirPassengers.txt\",\n",
        "separator=\"\\t\"\n",
        ")\n",
        "# Show original structure\n",
        "print(\"Original data shape:\", air_passengers.shape)\n",
        "print(\"\\nFirst few rows:\")\n",
        "print(air_passengers.head())\n",
        "# Unpivot: keep \"Year', turn month columns into two columns: \"month' and 'passengers\"\n",
        "air_passengers_long = air_passengers.unpivot(\n",
        "index=\"Year\",\n",
        "# columns to keep\n",
        "on=air_passengers.columns[1:], # columns to melt (all months except \"year\")\n",
        "variable_name=\"month\", value_name=\"passengers\"\n",
        ")\n",
        "# Display long format\n",
        "print(\"\\nUnpivoted DataFrame:\")\n",
        "print(air_passengers_long.head (15))"
      ],
      "metadata": {
        "colab": {
          "base_uri": "https://localhost:8080/"
        },
        "id": "5wvo2DTJ0L8T",
        "outputId": "fb7ce410-4499-4345-a012-f4629196269b"
      },
      "execution_count": 7,
      "outputs": [
        {
          "output_type": "stream",
          "name": "stdout",
          "text": [
            "Original data shape: (12, 13)\n",
            "\n",
            "First few rows:\n",
            "shape: (5, 13)\n",
            "┌──────┬─────┬─────┬─────┬───┬─────┬─────┬─────┬─────┐\n",
            "│ Year ┆ Jan ┆ Feb ┆ Mar ┆ … ┆ Sep ┆ Oct ┆ Nov ┆ Dec │\n",
            "│ ---  ┆ --- ┆ --- ┆ --- ┆   ┆ --- ┆ --- ┆ --- ┆ --- │\n",
            "│ i64  ┆ i64 ┆ i64 ┆ i64 ┆   ┆ i64 ┆ i64 ┆ i64 ┆ i64 │\n",
            "╞══════╪═════╪═════╪═════╪═══╪═════╪═════╪═════╪═════╡\n",
            "│ 1949 ┆ 112 ┆ 118 ┆ 132 ┆ … ┆ 136 ┆ 119 ┆ 104 ┆ 118 │\n",
            "│ 1950 ┆ 115 ┆ 126 ┆ 141 ┆ … ┆ 158 ┆ 133 ┆ 114 ┆ 140 │\n",
            "│ 1951 ┆ 145 ┆ 150 ┆ 178 ┆ … ┆ 184 ┆ 162 ┆ 146 ┆ 166 │\n",
            "│ 1952 ┆ 171 ┆ 180 ┆ 193 ┆ … ┆ 209 ┆ 191 ┆ 172 ┆ 194 │\n",
            "│ 1953 ┆ 196 ┆ 196 ┆ 236 ┆ … ┆ 237 ┆ 211 ┆ 180 ┆ 201 │\n",
            "└──────┴─────┴─────┴─────┴───┴─────┴─────┴─────┴─────┘\n",
            "\n",
            "Unpivoted DataFrame:\n",
            "shape: (15, 3)\n",
            "┌──────┬───────┬────────────┐\n",
            "│ Year ┆ month ┆ passengers │\n",
            "│ ---  ┆ ---   ┆ ---        │\n",
            "│ i64  ┆ str   ┆ i64        │\n",
            "╞══════╪═══════╪════════════╡\n",
            "│ 1949 ┆ Jan   ┆ 112        │\n",
            "│ 1950 ┆ Jan   ┆ 115        │\n",
            "│ 1951 ┆ Jan   ┆ 145        │\n",
            "│ 1952 ┆ Jan   ┆ 171        │\n",
            "│ 1953 ┆ Jan   ┆ 196        │\n",
            "│ …    ┆ …     ┆ …          │\n",
            "│ 1959 ┆ Jan   ┆ 360        │\n",
            "│ 1960 ┆ Jan   ┆ 417        │\n",
            "│ 1949 ┆ Feb   ┆ 118        │\n",
            "│ 1950 ┆ Feb   ┆ 126        │\n",
            "│ 1951 ┆ Feb   ┆ 150        │\n",
            "└──────┴───────┴────────────┘\n"
          ]
        }
      ]
    },
    {
      "cell_type": "code",
      "source": [
        "#Q2B\n",
        "# YOUR CODE HERE: Filter for years 1955-1960 and calculate standard deviation\n",
        "# Hint: Filter the long format data for years between 1955 and 1960 (inclusive)\n",
        "# Then calculate the standard deviation of the passenger values\n",
        "std_passengers = air_passengers_long. filter(\n",
        "(pl.col(\"Year\") >= 1955) & (pl.col (\"Year\") <= 1960)\n",
        "). select (pl.col(\"passengers\").std()).item()\n",
        "print(f\"The standard deviation of airline passengers between 1955 and 1960 is: {std_passengers:.2f}\")"
      ],
      "metadata": {
        "colab": {
          "base_uri": "https://localhost:8080/"
        },
        "id": "4cYySKvB0bCL",
        "outputId": "8e3cb36e-ae58-4a02-9af6-e7be362ca7b5"
      },
      "execution_count": 12,
      "outputs": [
        {
          "output_type": "stream",
          "name": "stdout",
          "text": [
            "The standard deviation of airline passengers between 1955 and 1960 is: 86.44\n"
          ]
        }
      ]
    },
    {
      "cell_type": "code",
      "source": [
        "#Q3A\n",
        "import polars as pl\n",
        "# Load table2 data\n",
        "table2 = pl. read_csv(\n",
        "\"https://raw.githubusercontent.com/philhetzel/opan5510-class12/refs/heads/main/data/table2.csv\"\n",
        ")\n",
        "# Display original data\n",
        "print(\"Original data:\")\n",
        "print (table2)\n",
        "# Pivot: turn 'type' values into columns, with 'count' as values\n",
        "table2_wide = table2.pivot(\n",
        "values=\"count\",\n",
        "# column with values\n",
        "index= [\"country\", \"year\"],\n",
        "# columns to keep as rows\n",
        "columns=\"type\"\n",
        "# column to turn into new column names\n",
        ")\n",
        "# Display pivoted dataframe\n",
        "print(\"\\nPivoted DataFrame:\")\n",
        "print (table2_wide)"
      ],
      "metadata": {
        "colab": {
          "base_uri": "https://localhost:8080/"
        },
        "id": "HR2sci-z05yq",
        "outputId": "de4410d8-a66a-4aaa-a412-d066cc2dac2b"
      },
      "execution_count": 14,
      "outputs": [
        {
          "output_type": "stream",
          "name": "stdout",
          "text": [
            "Original data:\n",
            "shape: (12, 5)\n",
            "┌──────────┬─────────────┬──────┬────────────┬────────────┐\n",
            "│ rownames ┆ country     ┆ year ┆ type       ┆ count      │\n",
            "│ ---      ┆ ---         ┆ ---  ┆ ---        ┆ ---        │\n",
            "│ i64      ┆ str         ┆ i64  ┆ str        ┆ i64        │\n",
            "╞══════════╪═════════════╪══════╪════════════╪════════════╡\n",
            "│ 1        ┆ Afghanistan ┆ 1999 ┆ cases      ┆ 745        │\n",
            "│ 2        ┆ Afghanistan ┆ 1999 ┆ population ┆ 19987071   │\n",
            "│ 3        ┆ Afghanistan ┆ 2000 ┆ cases      ┆ 2666       │\n",
            "│ 4        ┆ Afghanistan ┆ 2000 ┆ population ┆ 20595360   │\n",
            "│ 5        ┆ Brazil      ┆ 1999 ┆ cases      ┆ 37737      │\n",
            "│ …        ┆ …           ┆ …    ┆ …          ┆ …          │\n",
            "│ 8        ┆ Brazil      ┆ 2000 ┆ population ┆ 174504898  │\n",
            "│ 9        ┆ China       ┆ 1999 ┆ cases      ┆ 212258     │\n",
            "│ 10       ┆ China       ┆ 1999 ┆ population ┆ 1272915272 │\n",
            "│ 11       ┆ China       ┆ 2000 ┆ cases      ┆ 213766     │\n",
            "│ 12       ┆ China       ┆ 2000 ┆ population ┆ 1280428583 │\n",
            "└──────────┴─────────────┴──────┴────────────┴────────────┘\n",
            "\n",
            "Pivoted DataFrame:\n",
            "shape: (6, 4)\n",
            "┌─────────────┬──────┬────────┬────────────┐\n",
            "│ country     ┆ year ┆ cases  ┆ population │\n",
            "│ ---         ┆ ---  ┆ ---    ┆ ---        │\n",
            "│ str         ┆ i64  ┆ i64    ┆ i64        │\n",
            "╞═════════════╪══════╪════════╪════════════╡\n",
            "│ Afghanistan ┆ 1999 ┆ 745    ┆ 19987071   │\n",
            "│ Afghanistan ┆ 2000 ┆ 2666   ┆ 20595360   │\n",
            "│ Brazil      ┆ 1999 ┆ 37737  ┆ 172006362  │\n",
            "│ Brazil      ┆ 2000 ┆ 80488  ┆ 174504898  │\n",
            "│ China       ┆ 1999 ┆ 212258 ┆ 1272915272 │\n",
            "│ China       ┆ 2000 ┆ 213766 ┆ 1280428583 │\n",
            "└─────────────┴──────┴────────┴────────────┘\n"
          ]
        },
        {
          "output_type": "stream",
          "name": "stderr",
          "text": [
            "/tmp/ipython-input-716135407.py:11: DeprecationWarning: The argument `columns` for `DataFrame.pivot` is deprecated. It has been renamed to `on`.\n",
            "  table2_wide = table2.pivot(\n"
          ]
        }
      ]
    },
    {
      "cell_type": "code",
      "source": [
        "#Q3B\n",
        "# 1. Add a 'ratio' column that calculates cases/population\n",
        "table2_with_ratio = table2_wide.with_columns(\n",
        "(pl.col(\"cases\") / pl.col(\"population\")).alias(\"ratio\")\n",
        ")\n",
        "# 2. Filter for year 1999\n",
        "year_1999 = table2_with_ratio.filter(pl.col(\"year\") == 1999)\n",
        "# 3. Find country with highest ratio\n",
        "highest_ratio_country = year_1999.sort(\"ratio\", descending=True).select(\"country\").to_series()[0]\n",
        "print(\"Data for 1999 with ratios:\")\n",
        "print (year_1999)\n",
        "print(f\"\\nThe country with the highest cases/population ratio in 1999 is: {highest_ratio_country}\")"
      ],
      "metadata": {
        "colab": {
          "base_uri": "https://localhost:8080/"
        },
        "id": "sonD2rw_1Agn",
        "outputId": "a486cc50-6af3-4f46-e391-33aa158c2a31"
      },
      "execution_count": 16,
      "outputs": [
        {
          "output_type": "stream",
          "name": "stdout",
          "text": [
            "Data for 1999 with ratios:\n",
            "shape: (3, 5)\n",
            "┌─────────────┬──────┬────────┬────────────┬──────────┐\n",
            "│ country     ┆ year ┆ cases  ┆ population ┆ ratio    │\n",
            "│ ---         ┆ ---  ┆ ---    ┆ ---        ┆ ---      │\n",
            "│ str         ┆ i64  ┆ i64    ┆ i64        ┆ f64      │\n",
            "╞═════════════╪══════╪════════╪════════════╪══════════╡\n",
            "│ Afghanistan ┆ 1999 ┆ 745    ┆ 19987071   ┆ 0.000037 │\n",
            "│ Brazil      ┆ 1999 ┆ 37737  ┆ 172006362  ┆ 0.000219 │\n",
            "│ China       ┆ 1999 ┆ 212258 ┆ 1272915272 ┆ 0.000167 │\n",
            "└─────────────┴──────┴────────┴────────────┴──────────┘\n",
            "\n",
            "The country with the highest cases/population ratio in 1999 is: Brazil\n"
          ]
        }
      ]
    },
    {
      "cell_type": "code",
      "source": [],
      "metadata": {
        "id": "aPgog-HZ1L7F"
      },
      "execution_count": null,
      "outputs": []
    }
  ]
}