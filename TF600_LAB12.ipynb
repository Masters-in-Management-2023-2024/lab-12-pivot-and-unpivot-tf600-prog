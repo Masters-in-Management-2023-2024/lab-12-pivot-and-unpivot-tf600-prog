{
  "nbformat": 4,
  "nbformat_minor": 0,
  "metadata": {
    "colab": {
      "provenance": []
    },
    "kernelspec": {
      "name": "python3",
      "display_name": "Python 3"
    },
    "language_info": {
      "name": "python"
    }
  },
  "cells": [
    {
      "cell_type": "code",
      "execution_count": 1,
      "metadata": {
        "colab": {
          "base_uri": "https://localhost:8080/",
          "height": 479
        },
        "id": "vaSK7Js3tTmp",
        "outputId": "5d52146d-7079-45ee-b64a-12fcb70ff344"
      },
      "outputs": [
        {
          "output_type": "stream",
          "name": "stderr",
          "text": [
            "/tmp/ipython-input-3530322667.py:20: DeprecationWarning: The argument `columns` for `DataFrame.pivot` is deprecated. It has been renamed to `on`.\n",
            "  .pivot(index=\"date\", columns=\"variable\", values=\"value\", aggregate_function=\"first\")\n"
          ]
        },
        {
          "output_type": "execute_result",
          "data": {
            "text/plain": [
              "shape: (574, 6)\n",
              "┌────────────┬─────────┬────────────┬─────────┬─────────┬──────────┐\n",
              "│ date       ┆ pce     ┆ pop        ┆ psavert ┆ uempmed ┆ unemploy │\n",
              "│ ---        ┆ ---     ┆ ---        ┆ ---     ┆ ---     ┆ ---      │\n",
              "│ date       ┆ f64     ┆ f64        ┆ f64     ┆ f64     ┆ f64      │\n",
              "╞════════════╪═════════╪════════════╪═════════╪═════════╪══════════╡\n",
              "│ 1967-07-01 ┆ 506.7   ┆ 198712.0   ┆ 12.6    ┆ 4.5     ┆ 2944.0   │\n",
              "│ 1967-08-01 ┆ 509.8   ┆ 198911.0   ┆ 12.6    ┆ 4.7     ┆ 2945.0   │\n",
              "│ 1967-09-01 ┆ 515.6   ┆ 199113.0   ┆ 11.9    ┆ 4.6     ┆ 2958.0   │\n",
              "│ 1967-10-01 ┆ 512.2   ┆ 199311.0   ┆ 12.9    ┆ 4.9     ┆ 3143.0   │\n",
              "│ 1967-11-01 ┆ 517.4   ┆ 199498.0   ┆ 12.8    ┆ 4.7     ┆ 3066.0   │\n",
              "│ …          ┆ …       ┆ …          ┆ …       ┆ …       ┆ …        │\n",
              "│ 2014-12-01 ┆ 12062.0 ┆ 319746.157 ┆ 7.6     ┆ 12.9    ┆ 8717.0   │\n",
              "│ 2015-01-01 ┆ 12046.0 ┆ 319928.646 ┆ 7.7     ┆ 13.2    ┆ 8903.0   │\n",
              "│ 2015-02-01 ┆ 12082.4 ┆ 320074.511 ┆ 7.9     ┆ 12.9    ┆ 8610.0   │\n",
              "│ 2015-03-01 ┆ 12158.3 ┆ 320230.786 ┆ 7.4     ┆ 12.0    ┆ 8504.0   │\n",
              "│ 2015-04-01 ┆ 12193.8 ┆ 320402.295 ┆ 7.6     ┆ 11.5    ┆ 8526.0   │\n",
              "└────────────┴─────────┴────────────┴─────────┴─────────┴──────────┘"
            ],
            "text/html": [
              "<div><style>\n",
              ".dataframe > thead > tr,\n",
              ".dataframe > tbody > tr {\n",
              "  text-align: right;\n",
              "  white-space: pre-wrap;\n",
              "}\n",
              "</style>\n",
              "<small>shape: (574, 6)</small><table border=\"1\" class=\"dataframe\"><thead><tr><th>date</th><th>pce</th><th>pop</th><th>psavert</th><th>uempmed</th><th>unemploy</th></tr><tr><td>date</td><td>f64</td><td>f64</td><td>f64</td><td>f64</td><td>f64</td></tr></thead><tbody><tr><td>1967-07-01</td><td>506.7</td><td>198712.0</td><td>12.6</td><td>4.5</td><td>2944.0</td></tr><tr><td>1967-08-01</td><td>509.8</td><td>198911.0</td><td>12.6</td><td>4.7</td><td>2945.0</td></tr><tr><td>1967-09-01</td><td>515.6</td><td>199113.0</td><td>11.9</td><td>4.6</td><td>2958.0</td></tr><tr><td>1967-10-01</td><td>512.2</td><td>199311.0</td><td>12.9</td><td>4.9</td><td>3143.0</td></tr><tr><td>1967-11-01</td><td>517.4</td><td>199498.0</td><td>12.8</td><td>4.7</td><td>3066.0</td></tr><tr><td>&hellip;</td><td>&hellip;</td><td>&hellip;</td><td>&hellip;</td><td>&hellip;</td><td>&hellip;</td></tr><tr><td>2014-12-01</td><td>12062.0</td><td>319746.157</td><td>7.6</td><td>12.9</td><td>8717.0</td></tr><tr><td>2015-01-01</td><td>12046.0</td><td>319928.646</td><td>7.7</td><td>13.2</td><td>8903.0</td></tr><tr><td>2015-02-01</td><td>12082.4</td><td>320074.511</td><td>7.9</td><td>12.9</td><td>8610.0</td></tr><tr><td>2015-03-01</td><td>12158.3</td><td>320230.786</td><td>7.4</td><td>12.0</td><td>8504.0</td></tr><tr><td>2015-04-01</td><td>12193.8</td><td>320402.295</td><td>7.6</td><td>11.5</td><td>8526.0</td></tr></tbody></table></div>"
            ]
          },
          "metadata": {},
          "execution_count": 1
        }
      ],
      "source": [
        "#Q1A\n",
        "import polars as pl\n",
        "\n",
        "URL = \"https://raw.githubusercontent.com/philhetzel/opan5510-class12/refs/heads/main/data/economics_long.csv\"\n",
        "\n",
        "# Load and coerce types explicitly so pivot is predictable\n",
        "economics_long = (\n",
        "    pl.read_csv(URL, infer_schema_length=10000)\n",
        "    .with_columns(\n",
        "        pl.col(\"date\").cast(pl.Utf8).str.strptime(pl.Date, strict=False),\n",
        "        pl.col(\"variable\").cast(pl.Categorical),\n",
        "        pl.col(\"value\").cast(pl.Float64),\n",
        "    )\n",
        ")\n",
        "\n",
        "# Pivot: index=date, columns=variable, values=value\n",
        "# Use aggregate_function=\"first\" to guard against any rare duplicates\n",
        "economics_wide = (\n",
        "    economics_long\n",
        "    .pivot(index=\"date\", columns=\"variable\", values=\"value\", aggregate_function=\"first\")\n",
        "    .sort(\"date\")\n",
        ")\n",
        "\n",
        "economics_wide\n"
      ]
    },
    {
      "cell_type": "code",
      "source": [
        "#Q1B\n",
        "import polars as pl\n",
        "from datetime import date\n",
        "\n",
        "# Filter for dates >= 2010-01-01 and compute the median of 'unemploy'\n",
        "cutoff = date(2010, 1, 1)\n",
        "\n",
        "median_df = (\n",
        "    economics_wide\n",
        "    .filter(pl.col(\"date\") >= cutoff)\n",
        "    .select(\n",
        "        pl.col(\"unemploy\").cast(pl.Float64).median().alias(\"median_unemploy\")\n",
        "    )\n",
        ")\n",
        "\n",
        "median_unemploy = median_df[\"median_unemploy\"][0]\n",
        "print(f\"The median unemployment for 2010-01-01 and beyond is: {median_unemploy}\")"
      ],
      "metadata": {
        "colab": {
          "base_uri": "https://localhost:8080/"
        },
        "id": "5SqoMHLxtW15",
        "outputId": "fafc9c50-7fb7-4ab5-ac00-85fe9a302cef"
      },
      "execution_count": 2,
      "outputs": [
        {
          "output_type": "stream",
          "name": "stdout",
          "text": [
            "The median unemployment for 2010-01-01 and beyond is: 12471.0\n"
          ]
        }
      ]
    },
    {
      "cell_type": "code",
      "source": [
        "#Q2A\n",
        "import polars as pl\n",
        "\n",
        "URL = \"https://raw.githubusercontent.com/philhetzel/opan5510-class12/refs/heads/main/data/AirPassengers.txt\"\n",
        "\n",
        "# Load dataset\n",
        "air_passengers = pl.read_csv(\n",
        "    URL,\n",
        "    separator=\"\\t\",\n",
        "    infer_schema_length=5000,\n",
        "    null_values=[\"\", \"NA\", \"N/A\"]\n",
        ").with_columns(\n",
        "    pl.col(\"Year\").cast(pl.Int32)\n",
        ")\n",
        "\n",
        "print(\"Original data shape:\", air_passengers.shape)\n",
        "print(\"\\nFirst few rows:\")\n",
        "print(air_passengers.head())\n",
        "\n",
        "# Month columns = everything except 'Year'\n",
        "month_cols = [c for c in air_passengers.columns if c != \"Year\"]\n",
        "\n",
        "# Melt to long form and normalize types (robust whitespace trim via regex)\n",
        "air_passengers_long = (\n",
        "    air_passengers\n",
        "    .melt(\n",
        "        id_vars=\"Year\",\n",
        "        value_vars=month_cols,\n",
        "        variable_name=\"month\",\n",
        "        value_name=\"passengers\"\n",
        "    )\n",
        "    .with_columns(\n",
        "        pl.col(\"month\").cast(pl.Utf8).str.replace_all(r\"^\\s+|\\s+$\", \"\").alias(\"month\"),\n",
        "        pl.col(\"passengers\").cast(pl.Int64).alias(\"passengers\")\n",
        "    )\n",
        ")\n",
        "\n",
        "print(\"\\nUnpivoted DataFrame:\")\n",
        "print(air_passengers_long.head(15))\n"
      ],
      "metadata": {
        "colab": {
          "base_uri": "https://localhost:8080/"
        },
        "id": "X6-fcW5st16Y",
        "outputId": "22b3f372-02f7-4edf-e01d-486048ecfe07"
      },
      "execution_count": 5,
      "outputs": [
        {
          "output_type": "stream",
          "name": "stdout",
          "text": [
            "Original data shape: (12, 13)\n",
            "\n",
            "First few rows:\n",
            "shape: (5, 13)\n",
            "┌──────┬─────┬─────┬─────┬───┬─────┬─────┬─────┬─────┐\n",
            "│ Year ┆ Jan ┆ Feb ┆ Mar ┆ … ┆ Sep ┆ Oct ┆ Nov ┆ Dec │\n",
            "│ ---  ┆ --- ┆ --- ┆ --- ┆   ┆ --- ┆ --- ┆ --- ┆ --- │\n",
            "│ i32  ┆ i64 ┆ i64 ┆ i64 ┆   ┆ i64 ┆ i64 ┆ i64 ┆ i64 │\n",
            "╞══════╪═════╪═════╪═════╪═══╪═════╪═════╪═════╪═════╡\n",
            "│ 1949 ┆ 112 ┆ 118 ┆ 132 ┆ … ┆ 136 ┆ 119 ┆ 104 ┆ 118 │\n",
            "│ 1950 ┆ 115 ┆ 126 ┆ 141 ┆ … ┆ 158 ┆ 133 ┆ 114 ┆ 140 │\n",
            "│ 1951 ┆ 145 ┆ 150 ┆ 178 ┆ … ┆ 184 ┆ 162 ┆ 146 ┆ 166 │\n",
            "│ 1952 ┆ 171 ┆ 180 ┆ 193 ┆ … ┆ 209 ┆ 191 ┆ 172 ┆ 194 │\n",
            "│ 1953 ┆ 196 ┆ 196 ┆ 236 ┆ … ┆ 237 ┆ 211 ┆ 180 ┆ 201 │\n",
            "└──────┴─────┴─────┴─────┴───┴─────┴─────┴─────┴─────┘\n",
            "\n",
            "Unpivoted DataFrame:\n",
            "shape: (15, 3)\n",
            "┌──────┬───────┬────────────┐\n",
            "│ Year ┆ month ┆ passengers │\n",
            "│ ---  ┆ ---   ┆ ---        │\n",
            "│ i32  ┆ str   ┆ i64        │\n",
            "╞══════╪═══════╪════════════╡\n",
            "│ 1949 ┆ Jan   ┆ 112        │\n",
            "│ 1950 ┆ Jan   ┆ 115        │\n",
            "│ 1951 ┆ Jan   ┆ 145        │\n",
            "│ 1952 ┆ Jan   ┆ 171        │\n",
            "│ 1953 ┆ Jan   ┆ 196        │\n",
            "│ …    ┆ …     ┆ …          │\n",
            "│ 1959 ┆ Jan   ┆ 360        │\n",
            "│ 1960 ┆ Jan   ┆ 417        │\n",
            "│ 1949 ┆ Feb   ┆ 118        │\n",
            "│ 1950 ┆ Feb   ┆ 126        │\n",
            "│ 1951 ┆ Feb   ┆ 150        │\n",
            "└──────┴───────┴────────────┘\n"
          ]
        },
        {
          "output_type": "stream",
          "name": "stderr",
          "text": [
            "/tmp/ipython-input-2195259839.py:26: DeprecationWarning: `DataFrame.melt` is deprecated. Use `unpivot` instead, with `index` instead of `id_vars` and `on` instead of `value_vars`\n",
            "  .melt(\n"
          ]
        }
      ]
    },
    {
      "cell_type": "code",
      "source": [
        "#Q2B\n",
        "import polars as pl\n",
        "\n",
        "# Filter for 1955–1960 and compute the standard deviation of passengers\n",
        "std_passengers = (\n",
        "    air_passengers_long\n",
        "    .filter((pl.col(\"Year\") >= 1955) & (pl.col(\"Year\") <= 1960))\n",
        "    .select(pl.col(\"passengers\").cast(pl.Float64).std().alias(\"std_passengers\"))\n",
        "    .to_series()          # extract the single column as a Series\n",
        "    .item()               # get the single scalar\n",
        ")\n",
        "\n",
        "print(f\"The standard deviation of airline passengers between 1955 and 1960 is: {std_passengers:.2f}\")\n"
      ],
      "metadata": {
        "colab": {
          "base_uri": "https://localhost:8080/"
        },
        "id": "vd4SQjaFt43c",
        "outputId": "16996275-9e5c-4c20-9f8c-dd7864b61bdc"
      },
      "execution_count": 6,
      "outputs": [
        {
          "output_type": "stream",
          "name": "stdout",
          "text": [
            "The standard deviation of airline passengers between 1955 and 1960 is: 86.44\n"
          ]
        }
      ]
    },
    {
      "cell_type": "code",
      "source": [
        "#Q3A\n",
        "import polars as pl\n",
        "\n",
        "URL = \"https://raw.githubusercontent.com/philhetzel/opan5510-class12/refs/heads/main/data/table2.csv\"\n",
        "\n",
        "# Load with explicit types for stability\n",
        "table2 = (\n",
        "    pl.read_csv(URL, infer_schema_length=1000)\n",
        "    .with_columns(\n",
        "        pl.col(\"country\").cast(pl.Utf8),\n",
        "        pl.col(\"year\").cast(pl.Int32),\n",
        "        pl.col(\"type\").cast(pl.Categorical),\n",
        "        pl.col(\"count\").cast(pl.Int64),\n",
        "    )\n",
        ")\n",
        "\n",
        "print(\"Original data:\")\n",
        "print(table2)\n",
        "\n",
        "# Pivot: rows by (country, year); columns from 'type'; values from 'count'\n",
        "# Use aggregate_function='first' to handle any accidental duplicates safely\n",
        "table2_wide = (\n",
        "    table2\n",
        "    .pivot(\n",
        "        index=[\"country\", \"year\"],\n",
        "        columns=\"type\",\n",
        "        values=\"count\",\n",
        "        aggregate_function=\"first\",\n",
        "    )\n",
        "    .sort([\"country\", \"year\"])\n",
        ")\n",
        "\n",
        "print(\"\\nPivoted DataFrame:\")\n",
        "print(table2_wide)"
      ],
      "metadata": {
        "colab": {
          "base_uri": "https://localhost:8080/"
        },
        "id": "k9XuSNJKuO0q",
        "outputId": "fa447621-3331-43cd-a241-c0cab36a29d2"
      },
      "execution_count": 7,
      "outputs": [
        {
          "output_type": "stream",
          "name": "stdout",
          "text": [
            "Original data:\n",
            "shape: (12, 5)\n",
            "┌──────────┬─────────────┬──────┬────────────┬────────────┐\n",
            "│ rownames ┆ country     ┆ year ┆ type       ┆ count      │\n",
            "│ ---      ┆ ---         ┆ ---  ┆ ---        ┆ ---        │\n",
            "│ i64      ┆ str         ┆ i32  ┆ cat        ┆ i64        │\n",
            "╞══════════╪═════════════╪══════╪════════════╪════════════╡\n",
            "│ 1        ┆ Afghanistan ┆ 1999 ┆ cases      ┆ 745        │\n",
            "│ 2        ┆ Afghanistan ┆ 1999 ┆ population ┆ 19987071   │\n",
            "│ 3        ┆ Afghanistan ┆ 2000 ┆ cases      ┆ 2666       │\n",
            "│ 4        ┆ Afghanistan ┆ 2000 ┆ population ┆ 20595360   │\n",
            "│ 5        ┆ Brazil      ┆ 1999 ┆ cases      ┆ 37737      │\n",
            "│ …        ┆ …           ┆ …    ┆ …          ┆ …          │\n",
            "│ 8        ┆ Brazil      ┆ 2000 ┆ population ┆ 174504898  │\n",
            "│ 9        ┆ China       ┆ 1999 ┆ cases      ┆ 212258     │\n",
            "│ 10       ┆ China       ┆ 1999 ┆ population ┆ 1272915272 │\n",
            "│ 11       ┆ China       ┆ 2000 ┆ cases      ┆ 213766     │\n",
            "│ 12       ┆ China       ┆ 2000 ┆ population ┆ 1280428583 │\n",
            "└──────────┴─────────────┴──────┴────────────┴────────────┘\n",
            "\n",
            "Pivoted DataFrame:\n",
            "shape: (6, 4)\n",
            "┌─────────────┬──────┬────────┬────────────┐\n",
            "│ country     ┆ year ┆ cases  ┆ population │\n",
            "│ ---         ┆ ---  ┆ ---    ┆ ---        │\n",
            "│ str         ┆ i32  ┆ i64    ┆ i64        │\n",
            "╞═════════════╪══════╪════════╪════════════╡\n",
            "│ Afghanistan ┆ 1999 ┆ 745    ┆ 19987071   │\n",
            "│ Afghanistan ┆ 2000 ┆ 2666   ┆ 20595360   │\n",
            "│ Brazil      ┆ 1999 ┆ 37737  ┆ 172006362  │\n",
            "│ Brazil      ┆ 2000 ┆ 80488  ┆ 174504898  │\n",
            "│ China       ┆ 1999 ┆ 212258 ┆ 1272915272 │\n",
            "│ China       ┆ 2000 ┆ 213766 ┆ 1280428583 │\n",
            "└─────────────┴──────┴────────┴────────────┘\n"
          ]
        },
        {
          "output_type": "stream",
          "name": "stderr",
          "text": [
            "/tmp/ipython-input-17413536.py:24: DeprecationWarning: The argument `columns` for `DataFrame.pivot` is deprecated. It has been renamed to `on`.\n",
            "  .pivot(\n"
          ]
        }
      ]
    },
    {
      "cell_type": "code",
      "source": [
        "#Q3B\n",
        "import polars as pl\n",
        "\n",
        "# 1) Add a 'ratio' column = cases / population (guard against zeros / nulls; cast to float)\n",
        "table2_with_ratio = (\n",
        "    table2_wide\n",
        "    .with_columns(\n",
        "        pl.when(pl.col(\"population\").cast(pl.Float64) > 0)\n",
        "          .then(pl.col(\"cases\").cast(pl.Float64) / pl.col(\"population\").cast(pl.Float64))\n",
        "          .otherwise(None)\n",
        "          .alias(\"ratio\")\n",
        "    )\n",
        ")\n",
        "\n",
        "# 2) Filter for year 1999\n",
        "year_1999 = table2_with_ratio.filter(pl.col(\"year\") == 1999)\n",
        "\n",
        "# 3) Find country with highest ratio\n",
        "top_country_df = (\n",
        "    year_1999\n",
        "    .sort(\"ratio\", descending=True, nulls_last=True)\n",
        "    .select(\"country\")\n",
        "    .head(1)\n",
        ")\n",
        "\n",
        "highest_ratio_country = top_country_df[\"country\"][0] if top_country_df.height > 0 else None\n",
        "\n",
        "print(\"Data for 1999 with ratios:\")\n",
        "print(year_1999)\n",
        "\n",
        "print(f\"\\nThe country with the highest cases/population ratio in 1999 is: {highest_ratio_country}\")"
      ],
      "metadata": {
        "colab": {
          "base_uri": "https://localhost:8080/"
        },
        "id": "c3M6sCPYuTaG",
        "outputId": "b6e6499f-7cfd-4a24-e9f8-8b905438e4b3"
      },
      "execution_count": 8,
      "outputs": [
        {
          "output_type": "stream",
          "name": "stdout",
          "text": [
            "Data for 1999 with ratios:\n",
            "shape: (3, 5)\n",
            "┌─────────────┬──────┬────────┬────────────┬──────────┐\n",
            "│ country     ┆ year ┆ cases  ┆ population ┆ ratio    │\n",
            "│ ---         ┆ ---  ┆ ---    ┆ ---        ┆ ---      │\n",
            "│ str         ┆ i32  ┆ i64    ┆ i64        ┆ f64      │\n",
            "╞═════════════╪══════╪════════╪════════════╪══════════╡\n",
            "│ Afghanistan ┆ 1999 ┆ 745    ┆ 19987071   ┆ 0.000037 │\n",
            "│ Brazil      ┆ 1999 ┆ 37737  ┆ 172006362  ┆ 0.000219 │\n",
            "│ China       ┆ 1999 ┆ 212258 ┆ 1272915272 ┆ 0.000167 │\n",
            "└─────────────┴──────┴────────┴────────────┴──────────┘\n",
            "\n",
            "The country with the highest cases/population ratio in 1999 is: Brazil\n"
          ]
        }
      ]
    }
  ]
}